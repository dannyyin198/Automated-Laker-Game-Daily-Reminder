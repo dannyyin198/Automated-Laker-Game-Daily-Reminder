{
  "nbformat": 4,
  "nbformat_minor": 0,
  "metadata": {
    "colab": {
      "provenance": []
    },
    "kernelspec": {
      "name": "python3",
      "display_name": "Python 3"
    },
    "language_info": {
      "name": "python"
    }
  },
  "cells": [
    {
      "cell_type": "code",
      "execution_count": 9,
      "metadata": {
        "colab": {
          "base_uri": "https://localhost:8080/"
        },
        "id": "URZcWUjgngaj",
        "outputId": "60c33dfb-826f-4750-cc74-27a44137da46"
      },
      "outputs": [
        {
          "output_type": "stream",
          "name": "stdout",
          "text": [
            "Looking in indexes: https://pypi.org/simple, https://us-python.pkg.dev/colab-wheels/public/simple/\n",
            "Collecting schedule\n",
            "  Downloading schedule-1.1.0-py2.py3-none-any.whl (10 kB)\n",
            "Installing collected packages: schedule\n",
            "Successfully installed schedule-1.1.0\n"
          ]
        }
      ],
      "source": [
        "#pip install schedule\n",
        "##pip install nba_api"
      ]
    },
    {
      "cell_type": "code",
      "source": [
        "import pandas as pd\n",
        "from pprint import pprint\n",
        "from nba_api.live.nba.endpoints import scoreboard \n",
        "import json\n",
        "import datetime\n",
        "import smtplib \n",
        "from email.mime.text import MIMEText\n",
        "import schedule\n",
        "import subprocess\n"
      ],
      "metadata": {
        "id": "YLzkekQHniO-"
      },
      "execution_count": 10,
      "outputs": []
    },
    {
      "cell_type": "code",
      "source": [
        "##Get all of today's game in a dictionary\n",
        "\n",
        "games = scoreboard.ScoreBoard()\n",
        "todaygame = games.get_dict()\n",
        "pprint(todaygame)"
      ],
      "metadata": {
        "id": "NwUzIVUFnxnJ"
      },
      "execution_count": null,
      "outputs": []
    },
    {
      "cell_type": "code",
      "source": [
        "##Get all of today's game in a dictionary\n",
        "\n",
        "for game in todaygame['scoreboard']['games']:\n",
        "\n",
        "    for key, value in game.items():\n",
        "        print(f\"{key}: {value}\")\n",
        "    print(\"---\")\n",
        "\n",
        "\n"
      ],
      "metadata": {
        "id": "3Bij7w9mn0tT"
      },
      "execution_count": null,
      "outputs": []
    },
    {
      "cell_type": "code",
      "source": [
        "##Create email function to send in the LakerGame() function\n",
        "\n",
        "\n",
        "def send_email(subject, body, recipients):\n",
        "    gmail_user = ''\n",
        "    gmail_password = ''\n",
        "\n",
        "    msg = MIMEText(body)\n",
        "    msg['Subject'] = subject\n",
        "    msg['From'] = gmail_user\n",
        "    msg['To'] = ', '.join(recipients)\n",
        "\n",
        "    server = smtplib.SMTP('smtp.gmail.com', 587)\n",
        "    server.ehlo()\n",
        "    server.starttls()\n",
        "    server.login(gmail_user, gmail_password)\n",
        "    server.sendmail(gmail_user, recipients, msg.as_string())\n",
        "    server.quit()\n",
        "\n",
        "def LakerGame():\n",
        "  gametoday = False\n",
        "  email_body = ''\n",
        "  for game in todaygame['scoreboard']['games']:\n",
        "      if 'homeTeam' in game:\n",
        "          if 'teamName' in game['homeTeam']:\n",
        "              if 'Lakers' in game['homeTeam']['teamName']:\n",
        "                  gametoday = True\n",
        "                  game_et = datetime.datetime.strptime(game['gameEt'], '%Y-%m-%dT%H:%M:%SZ')\n",
        "                  gametime = game_et.strftime('%Y-%m-%d %I:%M %p')\n",
        "                  email_body += f\"The {game['homeTeam']['wins']}-{game['homeTeam']['losses']} {game['homeTeam']['teamName']} are playing the {game['awayTeam']['wins']}-{game['awayTeam']['losses']} {game['awayTeam']['teamName']} at {gametime} PST\\n\"\n",
        "      if 'awayTeam' in game:\n",
        "          if 'teamName' in game['awayTeam']:\n",
        "              if 'Lakers' in game['awayTeam']['teamName']:\n",
        "                  gametoday = True\n",
        "                  game_et = datetime.datetime.strptime(game['gameEt'], '%Y-%m-%dT%H:%M:%SZ')\n",
        "                  gametime = game_et.strftime('%Y-%m-%d %I:%M %p')\n",
        "                  email_body += f\"The {game['awayTeam']['wins']}-{game['awayTeam']['losses']} {game['awayTeam']['teamName']} are playing the {game['homeTeam']['wins']}-{game['homeTeam']['losses']} {game['homeTeam']['teamName']} at {gametime} PST\\n\"\n",
        "\n",
        "  if not gametoday:\n",
        "      email_body = \"No Lakers game Today\"\n",
        "  \n",
        "  recipients = ['dannyyin198@gmail.com','dannyboi198@hotmail.com']\n",
        "  send_email(\"Today's Lakers Game\", email_body, recipients)"
      ],
      "metadata": {
        "id": "nzkFIDcgoIKn"
      },
      "execution_count": 6,
      "outputs": []
    },
    {
      "cell_type": "code",
      "source": [
        "LakerGame()"
      ],
      "metadata": {
        "id": "yqlMA79zq7an"
      },
      "execution_count": 7,
      "outputs": []
    }
  ]
}
